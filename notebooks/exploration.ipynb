{
 "cells": [
  {
   "cell_type": "code",
   "execution_count": 2,
   "id": "c121bfe2",
   "metadata": {},
   "outputs": [],
   "source": [
    "import pandas as pd\n",
    "from pydantic import BaseModel"
   ]
  },
  {
   "cell_type": "code",
   "execution_count": 5,
   "id": "34182c98",
   "metadata": {},
   "outputs": [],
   "source": [
    "# Example of a class opening pandas dataframes\n",
    "class Computable(BaseModel):\n",
    "    _data: pd.DataFrame = None\n",
    "        \n",
    "    class Config:\n",
    "        arbitrary_types_allowed = True\n",
    "        underscore_attrs_are_private = True\n",
    "        \n",
    "    @property\n",
    "    def data(self) -> object:\n",
    "        if self._data is None:\n",
    "            self.compute()\n",
    "        return self._data\n",
    "        \n",
    "    def compute(self):\n",
    "        self._data = pd.DataFrame()"
   ]
  },
  {
   "cell_type": "code",
   "execution_count": null,
   "id": "ad7281e0",
   "metadata": {},
   "outputs": [],
   "source": []
  }
 ],
 "metadata": {
  "kernelspec": {
   "display_name": "Python 3 (ipykernel)",
   "language": "python",
   "name": "python3"
  },
  "language_info": {
   "codemirror_mode": {
    "name": "ipython",
    "version": 3
   },
   "file_extension": ".py",
   "mimetype": "text/x-python",
   "name": "python",
   "nbconvert_exporter": "python",
   "pygments_lexer": "ipython3",
   "version": "3.7.3"
  }
 },
 "nbformat": 4,
 "nbformat_minor": 5
}
